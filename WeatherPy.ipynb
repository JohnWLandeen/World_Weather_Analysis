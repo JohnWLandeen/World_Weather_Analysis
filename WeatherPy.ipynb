{
 "cells": [
  {
   "cell_type": "code",
   "execution_count": 1,
   "id": "e204e242",
   "metadata": {},
   "outputs": [],
   "source": [
    "# Import the dependencies.\n",
    "import pandas as pd\n",
    "import matplotlib.pyplot as plt\n",
    "import numpy as np"
   ]
  },
  {
   "cell_type": "code",
   "execution_count": 2,
   "id": "62d35762",
   "metadata": {},
   "outputs": [
    {
     "data": {
      "text/plain": [
       "<zip at 0x20371453180>"
      ]
     },
     "execution_count": 2,
     "metadata": {},
     "output_type": "execute_result"
    }
   ],
   "source": [
    "# Create a set of random latitude and longitude combinations.\n",
    "lats = np.random.uniform(low=-90.000, high=90.000, size=1500)\n",
    "lngs = np.random.uniform(low=-180.000, high=180.000, size=1500)\n",
    "lat_lngs = zip(lats, lngs)\n",
    "lat_lngs"
   ]
  },
  {
   "cell_type": "code",
   "execution_count": 3,
   "id": "6b3ad507",
   "metadata": {},
   "outputs": [],
   "source": [
    "# Import the time library and the datetime module from the datetime library \n",
    "import time\n",
    "from datetime import datetime"
   ]
  },
  {
   "cell_type": "code",
   "execution_count": 4,
   "id": "b8987ba3",
   "metadata": {},
   "outputs": [],
   "source": [
    "# Import the requests library.\n",
    "import requests\n",
    "\n",
    "# Import the API key.\n",
    "from config import weather_api_key\n",
    "from citipy import citipy"
   ]
  },
  {
   "cell_type": "code",
   "execution_count": 14,
   "id": "3ce02291",
   "metadata": {},
   "outputs": [],
   "source": [
    "# Create a practice set of random latitude and longitude combinations.\n",
    "lats = [1,2,3,4,5,6,7,8,9,10]\n",
    "lngs = [1,2,3,4,5,6,7,8,9,10]\n",
    "lat_lngs = zip(lats, lngs)"
   ]
  },
  {
   "cell_type": "code",
   "execution_count": 15,
   "id": "961368cb",
   "metadata": {},
   "outputs": [],
   "source": [
    "# Add the latitudes and longitudes to a list.\n",
    "coordinates = list(lat_lngs)"
   ]
  },
  {
   "cell_type": "code",
   "execution_count": 16,
   "id": "3c0434a6",
   "metadata": {},
   "outputs": [
    {
     "data": {
      "text/plain": [
       "9"
      ]
     },
     "execution_count": 16,
     "metadata": {},
     "output_type": "execute_result"
    }
   ],
   "source": [
    "# Create a list for holding the cities.\n",
    "cities = []\n",
    "# Identify the nearest city for each latitude and longitude combination.\n",
    "for coordinate in coordinates:\n",
    "    city = citipy.nearest_city(coordinate[0], coordinate[1]).city_name\n",
    "\n",
    "    # If the city is unique, then we will add it to the cities list.\n",
    "    if city not in cities:\n",
    "        cities.append(city)\n",
    "# Print the city count to confirm sufficient count.\n",
    "len(cities)"
   ]
  },
  {
   "cell_type": "code",
   "execution_count": 17,
   "id": "1ac35876",
   "metadata": {},
   "outputs": [],
   "source": [
    "London = \"London\"\n",
    "url = \"http://api.openweathermap.org/data/2.5/weather?\" + weather_api_key"
   ]
  },
  {
   "cell_type": "code",
   "execution_count": 18,
   "id": "680e9618",
   "metadata": {},
   "outputs": [
    {
     "name": "stdout",
     "output_type": "stream",
     "text": [
      "http://api.openweathermap.org/data/2.5/weather?6101a659a7d65b756966d0f1dd71a114&appid=6101a659a7d65b756966d0f1dd71a114&q=London\n"
     ]
    }
   ],
   "source": [
    "query_url = url + \"&appid=\" + weather_api_key + \"&q=\" + London\n",
    "print(query_url)"
   ]
  },
  {
   "cell_type": "code",
   "execution_count": 19,
   "id": "d2755d85",
   "metadata": {},
   "outputs": [
    {
     "name": "stdout",
     "output_type": "stream",
     "text": [
      "Beginning Data Retrieval     \n",
      "-----------------------------\n",
      "Processing Record 1 of Set 1 | mumford\n",
      "Processing Record 2 of Set 1 | anloga\n",
      "Processing Record 3 of Set 1 | cotonou\n",
      "Processing Record 4 of Set 1 | warri\n",
      "Processing Record 5 of Set 1 | agbor\n",
      "Processing Record 6 of Set 1 | idah\n",
      "Processing Record 7 of Set 1 | makurdi\n",
      "Processing Record 8 of Set 1 | lafia\n",
      "Processing Record 9 of Set 1 | bauchi\n",
      "-----------------------------\n",
      "Data Retrieval Complete      \n",
      "-----------------------------\n"
     ]
    }
   ],
   "source": [
    "# Create an empty list to hold the weather data.\n",
    "city_data = []\n",
    "# Print the beginning of the logging.\n",
    "print(\"Beginning Data Retrieval     \")\n",
    "print(\"-----------------------------\")\n",
    "\n",
    "# Create counters.\n",
    "record_count = 1\n",
    "set_count = 1\n",
    "# Loop through all the cities in the list.\n",
    "for i, city in enumerate(cities):\n",
    "\n",
    "    # Group cities in sets of 50 for logging purposes.\n",
    "    if (i % 50 == 0 and i >= 50):\n",
    "        set_count += 1\n",
    "        record_count = 1\n",
    "        time.sleep(60)\n",
    "\n",
    "    # Create endpoint URL with each city.\n",
    "    city_url = url + \"&appid=\" + weather_api_key + \"&q=\" + city.replace(\" \",\"+\")\n",
    "\n",
    "    # Log the URL, record, and set numbers and the city.\n",
    "    print(f\"Processing Record {record_count} of Set {set_count} | {city}\")\n",
    "    # Add 1 to the record count.\n",
    "    record_count += 1\n",
    "    # Run an API request for each of the cities.\n",
    "    try:\n",
    "        # Parse the JSON and retrieve data.\n",
    "        city_weather = requests.get(city_url).json()\n",
    "        # Parse out the needed data.\n",
    "        city_lat = city_weather[\"coord\"][\"lat\"]\n",
    "        city_lng = city_weather[\"coord\"][\"lon\"]\n",
    "        city_max_temp = city_weather[\"main\"][\"temp_max\"]\n",
    "        city_humidity = city_weather[\"main\"][\"humidity\"]\n",
    "        city_clouds = city_weather[\"clouds\"][\"all\"]\n",
    "        city_wind = city_weather[\"wind\"][\"speed\"]\n",
    "        city_country = city_weather[\"sys\"][\"country\"]\n",
    "        # Convert the date to ISO standard.\n",
    "        city_date = datetime.utcfromtimestamp(city_weather[\"dt\"]).strftime('%Y-%m-%d %H:%M:%S')\n",
    "        # Append the city information into city_data list.\n",
    "        city_data.append({\"City\": city.title(),\n",
    "                          \"Lat\": city_lat,\n",
    "                          \"Lng\": city_lng,\n",
    "                          \"Max Temp\": city_max_temp,\n",
    "                          \"Humidity\": city_humidity,\n",
    "                          \"Cloudiness\": city_clouds,\n",
    "                          \"Wind Speed\": city_wind,\n",
    "                          \"Country\": city_country,\n",
    "                          \"Date\": city_date})\n",
    "\n",
    "# If an error is experienced, skip the city.\n",
    "    except:\n",
    "        print(\"City not found. Skipping...\")\n",
    "        pass\n",
    "\n",
    "# Indicate that Data Loading is complete.\n",
    "print(\"-----------------------------\")\n",
    "print(\"Data Retrieval Complete      \")\n",
    "print(\"-----------------------------\")"
   ]
  },
  {
   "cell_type": "code",
   "execution_count": 20,
   "id": "885ea5fa",
   "metadata": {},
   "outputs": [
    {
     "data": {
      "text/html": [
       "<div>\n",
       "<style scoped>\n",
       "    .dataframe tbody tr th:only-of-type {\n",
       "        vertical-align: middle;\n",
       "    }\n",
       "\n",
       "    .dataframe tbody tr th {\n",
       "        vertical-align: top;\n",
       "    }\n",
       "\n",
       "    .dataframe thead th {\n",
       "        text-align: right;\n",
       "    }\n",
       "</style>\n",
       "<table border=\"1\" class=\"dataframe\">\n",
       "  <thead>\n",
       "    <tr style=\"text-align: right;\">\n",
       "      <th></th>\n",
       "      <th>City</th>\n",
       "      <th>Lat</th>\n",
       "      <th>Lng</th>\n",
       "      <th>Max Temp</th>\n",
       "      <th>Humidity</th>\n",
       "      <th>Cloudiness</th>\n",
       "      <th>Wind Speed</th>\n",
       "      <th>Country</th>\n",
       "      <th>Date</th>\n",
       "    </tr>\n",
       "  </thead>\n",
       "  <tbody>\n",
       "    <tr>\n",
       "      <th>0</th>\n",
       "      <td>Mumford</td>\n",
       "      <td>5.2618</td>\n",
       "      <td>-0.7590</td>\n",
       "      <td>297.98</td>\n",
       "      <td>73</td>\n",
       "      <td>92</td>\n",
       "      <td>5.55</td>\n",
       "      <td>GH</td>\n",
       "      <td>2022-07-19 10:14:01</td>\n",
       "    </tr>\n",
       "    <tr>\n",
       "      <th>1</th>\n",
       "      <td>Anloga</td>\n",
       "      <td>5.7947</td>\n",
       "      <td>0.8973</td>\n",
       "      <td>298.57</td>\n",
       "      <td>71</td>\n",
       "      <td>100</td>\n",
       "      <td>6.66</td>\n",
       "      <td>GH</td>\n",
       "      <td>2022-07-19 10:14:01</td>\n",
       "    </tr>\n",
       "    <tr>\n",
       "      <th>2</th>\n",
       "      <td>Cotonou</td>\n",
       "      <td>6.3654</td>\n",
       "      <td>2.4183</td>\n",
       "      <td>299.32</td>\n",
       "      <td>69</td>\n",
       "      <td>99</td>\n",
       "      <td>6.16</td>\n",
       "      <td>BJ</td>\n",
       "      <td>2022-07-19 10:10:15</td>\n",
       "    </tr>\n",
       "    <tr>\n",
       "      <th>3</th>\n",
       "      <td>Warri</td>\n",
       "      <td>5.5167</td>\n",
       "      <td>5.7500</td>\n",
       "      <td>302.28</td>\n",
       "      <td>53</td>\n",
       "      <td>99</td>\n",
       "      <td>3.09</td>\n",
       "      <td>NG</td>\n",
       "      <td>2022-07-19 10:14:02</td>\n",
       "    </tr>\n",
       "    <tr>\n",
       "      <th>4</th>\n",
       "      <td>Agbor</td>\n",
       "      <td>6.2518</td>\n",
       "      <td>6.1934</td>\n",
       "      <td>300.04</td>\n",
       "      <td>65</td>\n",
       "      <td>85</td>\n",
       "      <td>2.81</td>\n",
       "      <td>NG</td>\n",
       "      <td>2022-07-19 10:14:02</td>\n",
       "    </tr>\n",
       "    <tr>\n",
       "      <th>5</th>\n",
       "      <td>Idah</td>\n",
       "      <td>7.1065</td>\n",
       "      <td>6.7342</td>\n",
       "      <td>300.66</td>\n",
       "      <td>65</td>\n",
       "      <td>91</td>\n",
       "      <td>2.83</td>\n",
       "      <td>NG</td>\n",
       "      <td>2022-07-19 10:14:03</td>\n",
       "    </tr>\n",
       "    <tr>\n",
       "      <th>6</th>\n",
       "      <td>Makurdi</td>\n",
       "      <td>7.7411</td>\n",
       "      <td>8.5121</td>\n",
       "      <td>301.81</td>\n",
       "      <td>61</td>\n",
       "      <td>72</td>\n",
       "      <td>2.82</td>\n",
       "      <td>NG</td>\n",
       "      <td>2022-07-19 10:14:03</td>\n",
       "    </tr>\n",
       "    <tr>\n",
       "      <th>7</th>\n",
       "      <td>Lafia</td>\n",
       "      <td>8.4833</td>\n",
       "      <td>8.5167</td>\n",
       "      <td>298.76</td>\n",
       "      <td>75</td>\n",
       "      <td>100</td>\n",
       "      <td>2.52</td>\n",
       "      <td>NG</td>\n",
       "      <td>2022-07-19 10:14:03</td>\n",
       "    </tr>\n",
       "    <tr>\n",
       "      <th>8</th>\n",
       "      <td>Bauchi</td>\n",
       "      <td>10.5000</td>\n",
       "      <td>10.0000</td>\n",
       "      <td>301.55</td>\n",
       "      <td>56</td>\n",
       "      <td>77</td>\n",
       "      <td>3.15</td>\n",
       "      <td>NG</td>\n",
       "      <td>2022-07-19 10:14:04</td>\n",
       "    </tr>\n",
       "  </tbody>\n",
       "</table>\n",
       "</div>"
      ],
      "text/plain": [
       "      City      Lat      Lng  Max Temp  Humidity  Cloudiness  Wind Speed  \\\n",
       "0  Mumford   5.2618  -0.7590    297.98        73          92        5.55   \n",
       "1   Anloga   5.7947   0.8973    298.57        71         100        6.66   \n",
       "2  Cotonou   6.3654   2.4183    299.32        69          99        6.16   \n",
       "3    Warri   5.5167   5.7500    302.28        53          99        3.09   \n",
       "4    Agbor   6.2518   6.1934    300.04        65          85        2.81   \n",
       "5     Idah   7.1065   6.7342    300.66        65          91        2.83   \n",
       "6  Makurdi   7.7411   8.5121    301.81        61          72        2.82   \n",
       "7    Lafia   8.4833   8.5167    298.76        75         100        2.52   \n",
       "8   Bauchi  10.5000  10.0000    301.55        56          77        3.15   \n",
       "\n",
       "  Country                 Date  \n",
       "0      GH  2022-07-19 10:14:01  \n",
       "1      GH  2022-07-19 10:14:01  \n",
       "2      BJ  2022-07-19 10:10:15  \n",
       "3      NG  2022-07-19 10:14:02  \n",
       "4      NG  2022-07-19 10:14:02  \n",
       "5      NG  2022-07-19 10:14:03  \n",
       "6      NG  2022-07-19 10:14:03  \n",
       "7      NG  2022-07-19 10:14:03  \n",
       "8      NG  2022-07-19 10:14:04  "
      ]
     },
     "execution_count": 20,
     "metadata": {},
     "output_type": "execute_result"
    }
   ],
   "source": [
    "# Convert the array of dictionaries to a Pandas DataFrame.\n",
    "city_data_df = pd.DataFrame(city_data)\n",
    "city_data_df.head(10)"
   ]
  },
  {
   "cell_type": "code",
   "execution_count": 21,
   "id": "43aa1d3c",
   "metadata": {},
   "outputs": [
    {
     "data": {
      "text/plain": [
       "'http://api.openweathermap.org/data/2.5/weather?6101a659a7d65b756966d0f1dd71a114&appid=6101a659a7d65b756966d0f1dd71a114&q=bauchi'"
      ]
     },
     "execution_count": 21,
     "metadata": {},
     "output_type": "execute_result"
    }
   ],
   "source": [
    "new_column_order = [\"column2\", \"column4\", \"column1\"]"
   ]
  },
  {
   "cell_type": "code",
   "execution_count": 29,
   "id": "6d134ad5",
   "metadata": {},
   "outputs": [],
   "source": [
    "new_column_order = ['City','Country','Lat','Lng','Max Temp', 'Humidity', 'Cloudiness','Wind Speed']"
   ]
  },
  {
   "cell_type": "code",
   "execution_count": 61,
   "id": "d1a3b3a1",
   "metadata": {},
   "outputs": [
    {
     "data": {
      "text/html": [
       "<div>\n",
       "<style scoped>\n",
       "    .dataframe tbody tr th:only-of-type {\n",
       "        vertical-align: middle;\n",
       "    }\n",
       "\n",
       "    .dataframe tbody tr th {\n",
       "        vertical-align: top;\n",
       "    }\n",
       "\n",
       "    .dataframe thead th {\n",
       "        text-align: right;\n",
       "    }\n",
       "</style>\n",
       "<table border=\"1\" class=\"dataframe\">\n",
       "  <thead>\n",
       "    <tr style=\"text-align: right;\">\n",
       "      <th></th>\n",
       "      <th>City</th>\n",
       "      <th>Country</th>\n",
       "      <th>Lat</th>\n",
       "      <th>Lng</th>\n",
       "      <th>Max Temp</th>\n",
       "      <th>Humidity</th>\n",
       "      <th>Cloudiness</th>\n",
       "      <th>Wind Speed</th>\n",
       "    </tr>\n",
       "  </thead>\n",
       "  <tbody>\n",
       "    <tr>\n",
       "      <th>0</th>\n",
       "      <td>Mumford</td>\n",
       "      <td>GH</td>\n",
       "      <td>5.2618</td>\n",
       "      <td>-0.7590</td>\n",
       "      <td>297.98</td>\n",
       "      <td>73</td>\n",
       "      <td>92</td>\n",
       "      <td>5.55</td>\n",
       "    </tr>\n",
       "    <tr>\n",
       "      <th>1</th>\n",
       "      <td>Anloga</td>\n",
       "      <td>GH</td>\n",
       "      <td>5.7947</td>\n",
       "      <td>0.8973</td>\n",
       "      <td>298.57</td>\n",
       "      <td>71</td>\n",
       "      <td>100</td>\n",
       "      <td>6.66</td>\n",
       "    </tr>\n",
       "    <tr>\n",
       "      <th>2</th>\n",
       "      <td>Cotonou</td>\n",
       "      <td>BJ</td>\n",
       "      <td>6.3654</td>\n",
       "      <td>2.4183</td>\n",
       "      <td>299.32</td>\n",
       "      <td>69</td>\n",
       "      <td>99</td>\n",
       "      <td>6.16</td>\n",
       "    </tr>\n",
       "    <tr>\n",
       "      <th>3</th>\n",
       "      <td>Warri</td>\n",
       "      <td>NG</td>\n",
       "      <td>5.5167</td>\n",
       "      <td>5.7500</td>\n",
       "      <td>302.28</td>\n",
       "      <td>53</td>\n",
       "      <td>99</td>\n",
       "      <td>3.09</td>\n",
       "    </tr>\n",
       "    <tr>\n",
       "      <th>4</th>\n",
       "      <td>Agbor</td>\n",
       "      <td>NG</td>\n",
       "      <td>6.2518</td>\n",
       "      <td>6.1934</td>\n",
       "      <td>300.04</td>\n",
       "      <td>65</td>\n",
       "      <td>85</td>\n",
       "      <td>2.81</td>\n",
       "    </tr>\n",
       "    <tr>\n",
       "      <th>5</th>\n",
       "      <td>Idah</td>\n",
       "      <td>NG</td>\n",
       "      <td>7.1065</td>\n",
       "      <td>6.7342</td>\n",
       "      <td>300.66</td>\n",
       "      <td>65</td>\n",
       "      <td>91</td>\n",
       "      <td>2.83</td>\n",
       "    </tr>\n",
       "    <tr>\n",
       "      <th>6</th>\n",
       "      <td>Makurdi</td>\n",
       "      <td>NG</td>\n",
       "      <td>7.7411</td>\n",
       "      <td>8.5121</td>\n",
       "      <td>301.81</td>\n",
       "      <td>61</td>\n",
       "      <td>72</td>\n",
       "      <td>2.82</td>\n",
       "    </tr>\n",
       "    <tr>\n",
       "      <th>7</th>\n",
       "      <td>Lafia</td>\n",
       "      <td>NG</td>\n",
       "      <td>8.4833</td>\n",
       "      <td>8.5167</td>\n",
       "      <td>298.76</td>\n",
       "      <td>75</td>\n",
       "      <td>100</td>\n",
       "      <td>2.52</td>\n",
       "    </tr>\n",
       "    <tr>\n",
       "      <th>8</th>\n",
       "      <td>Bauchi</td>\n",
       "      <td>NG</td>\n",
       "      <td>10.5000</td>\n",
       "      <td>10.0000</td>\n",
       "      <td>301.55</td>\n",
       "      <td>56</td>\n",
       "      <td>77</td>\n",
       "      <td>3.15</td>\n",
       "    </tr>\n",
       "  </tbody>\n",
       "</table>\n",
       "</div>"
      ],
      "text/plain": [
       "      City Country      Lat      Lng  Max Temp  Humidity  Cloudiness  \\\n",
       "0  Mumford      GH   5.2618  -0.7590    297.98        73          92   \n",
       "1   Anloga      GH   5.7947   0.8973    298.57        71         100   \n",
       "2  Cotonou      BJ   6.3654   2.4183    299.32        69          99   \n",
       "3    Warri      NG   5.5167   5.7500    302.28        53          99   \n",
       "4    Agbor      NG   6.2518   6.1934    300.04        65          85   \n",
       "5     Idah      NG   7.1065   6.7342    300.66        65          91   \n",
       "6  Makurdi      NG   7.7411   8.5121    301.81        61          72   \n",
       "7    Lafia      NG   8.4833   8.5167    298.76        75         100   \n",
       "8   Bauchi      NG  10.5000  10.0000    301.55        56          77   \n",
       "\n",
       "   Wind Speed  \n",
       "0        5.55  \n",
       "1        6.66  \n",
       "2        6.16  \n",
       "3        3.09  \n",
       "4        2.81  \n",
       "5        2.83  \n",
       "6        2.82  \n",
       "7        2.52  \n",
       "8        3.15  "
      ]
     },
     "execution_count": 61,
     "metadata": {},
     "output_type": "execute_result"
    }
   ],
   "source": [
    "city_data_df = city_data_df[new_column_order]\n",
    "city_data_df"
   ]
  },
  {
   "cell_type": "code",
   "execution_count": 62,
   "id": "3294bf6e",
   "metadata": {},
   "outputs": [],
   "source": [
    "# Create the output file (CSV).\n",
    "output_data_file = \"weather_data/cities.csv\"\n",
    "# Export the City_Data into a CSV.\n",
    "city_data_df.to_csv(output_data_file, index_label=\"City_ID\")"
   ]
  },
  {
   "cell_type": "code",
   "execution_count": 63,
   "id": "fffb500f",
   "metadata": {},
   "outputs": [],
   "source": [
    "# Extract relevant fields from the DataFrame for plotting.\n",
    "lats = city_data_df[\"Lat\"]\n",
    "max_temps = city_data_df[\"Max Temp\"]\n",
    "humidity = city_data_df[\"Humidity\"]\n",
    "cloudiness = city_data_df[\"Cloudiness\"]\n",
    "wind_speed = city_data_df[\"Wind Speed\"]"
   ]
  },
  {
   "cell_type": "code",
   "execution_count": 64,
   "id": "3fb9817f",
   "metadata": {},
   "outputs": [
    {
     "data": {
      "image/png": "[encoded data removed]",
      "text/plain": [
       "<Figure size 432x288 with 1 Axes>"
      ]
     },
     "metadata": {
      "needs_background": "light"
     },
     "output_type": "display_data"
    }
   ],
   "source": [
    "# Import time module\n",
    "import time\n",
    "\n",
    "# Build the scatter plot for latitude vs. max temperature.\n",
    "plt.scatter(lats,\n",
    "            max_temps,\n",
    "            edgecolor=\"black\", linewidths=1, marker=\"o\",\n",
    "            alpha=0.8, label=\"Cities\")\n",
    "\n",
    "# Incorporate the other graph properties.\n",
    "plt.title(f\"City Latitude vs. Max Temperature \"+ time.strftime(\"%x\"))\n",
    "plt.ylabel(\"Max Temperature (F)\")\n",
    "plt.xlabel(\"Latitude\")\n",
    "plt.grid(True)\n",
    "\n",
    "# Save the figure.\n",
    "plt.savefig(\"weather_data/Fig1.png\")\n",
    "\n",
    "# Show plot.\n",
    "plt.show()"
   ]
  },
  {
   "cell_type": "code",
   "execution_count": 65,
   "id": "5faedb40",
   "metadata": {},
   "outputs": [
    {
     "data": {
      "image/png": "[encoded data removed]",
      "text/plain": [
       "<Figure size 432x288 with 1 Axes>"
      ]
     },
     "metadata": {
      "needs_background": "light"
     },
     "output_type": "display_data"
    }
   ],
   "source": [
    "# Build the scatter plots for latitude vs. humidity.\n",
    "plt.scatter(lats,\n",
    "            humidity,\n",
    "            edgecolor=\"black\", linewidths=1, marker=\"o\",\n",
    "            alpha=0.8, label=\"Cities\")\n",
    "\n",
    "# Incorporate the other graph properties.\n",
    "plt.title(f\"City Latitude vs. Humidity \"+ time.strftime(\"%x\"))\n",
    "plt.ylabel(\"Humidity (%)\")\n",
    "plt.xlabel(\"Latitude\")\n",
    "plt.grid(True)\n",
    "# Save the figure.\n",
    "plt.savefig(\"weather_data/Fig2.png\")\n",
    "# Show plot.\n",
    "plt.show()"
   ]
  },
  {
   "cell_type": "code",
   "execution_count": 66,
   "id": "5476f65b",
   "metadata": {},
   "outputs": [
    {
     "data": {
      "image/png": "[encoded data removed]",
      "text/plain": [
       "<Figure size 432x288 with 1 Axes>"
      ]
     },
     "metadata": {
      "needs_background": "light"
     },
     "output_type": "display_data"
    }
   ],
   "source": [
    "# Build the scatter plots for latitude vs. cloudiness.\n",
    "plt.scatter(lats,\n",
    "            cloudiness,\n",
    "            edgecolor=\"black\", linewidths=1, marker=\"o\",\n",
    "            alpha=0.8, label=\"Cities\")\n",
    "\n",
    "# Incorporate the other graph properties.\n",
    "plt.title(f\"City Latitude vs. Cloudiness (%) \"+ time.strftime(\"%x\"))\n",
    "plt.ylabel(\"Cloudiness (%)\")\n",
    "plt.xlabel(\"Latitude\")\n",
    "plt.grid(True)\n",
    "# Save the figure.\n",
    "plt.savefig(\"weather_data/Fig3.png\")\n",
    "# Show plot.\n",
    "plt.show()"
   ]
  },
  {
   "cell_type": "code",
   "execution_count": 67,
   "id": "b4cdeeac",
   "metadata": {},
   "outputs": [
    {
     "data": {
      "image/png": "[encoded data removed]",
      "text/plain": [
       "<Figure size 432x288 with 1 Axes>"
      ]
     },
     "metadata": {
      "needs_background": "light"
     },
     "output_type": "display_data"
    }
   ],
   "source": [
    "# Build the scatter plots for latitude vs. wind speed.\n",
    "plt.scatter(lats,\n",
    "            wind_speed,\n",
    "            edgecolor=\"black\", linewidths=1, marker=\"o\",\n",
    "            alpha=0.8, label=\"Cities\")\n",
    "\n",
    "# Incorporate the other graph properties.\n",
    "plt.title(f\"City Latitude vs. Wind Speed \"+ time.strftime(\"%x\"))\n",
    "plt.ylabel(\"Wind Speed (mph)\")\n",
    "plt.xlabel(\"Latitude\")\n",
    "plt.grid(True)\n",
    "# Save the figure.\n",
    "plt.savefig(\"weather_data/Fig4.png\")\n",
    "# Show plot.\n",
    "plt.show()"
   ]
  },
  {
   "cell_type": "code",
   "execution_count": 98,
   "id": "277392cb",
   "metadata": {},
   "outputs": [],
   "source": [
    "# Import linregress\n",
    "from scipy.stats import linregress\n",
    "\n",
    "# Create a function to create perform linear regression on the weather data\n",
    "# and plot a regression line and the equation with the data.\n",
    "def plot_linear_regression(x_values, y_values, title, y_label, text_coordinates):\n",
    "\n",
    "    # Run regression on hemisphere weather data.\n",
    "    (slope, intercept, r_value, p_value, std_err) = linregress(x_values, y_values)\n",
    "\n",
    "    # Calculate the regression line \"y values\" from the slope and intercept.\n",
    "    regress_values = x_values * slope + intercept\n",
    "    # Get the equation of the line.\n",
    "    line_eq = \"y = \" + str(round(slope,2)) + \"x + \" + str(round(intercept,2))\n",
    "    # Create a scatter plot and plot the regression line.\n",
    "    plt.scatter(x_values,y_values)\n",
    "    plt.plot(x_values,regress_values,\"r\")\n",
    "    # Annotate the text for the line equation.\n",
    "    plt.annotate(line_eq, text_coordinates, fontsize=15, color=\"red\")\n",
    "    plt.title(title)\n",
    "    plt.xlabel('Latitude')\n",
    "    plt.ylabel(y_label)\n",
    "    plt.show()"
   ]
  },
  {
   "cell_type": "code",
   "execution_count": 99,
   "id": "fff01810",
   "metadata": {},
   "outputs": [
    {
     "data": {
      "text/plain": [
       "City          Bauchi\n",
       "Country           NG\n",
       "Lat             10.5\n",
       "Lng             10.0\n",
       "Max Temp      301.55\n",
       "Humidity          56\n",
       "Cloudiness        77\n",
       "Wind Speed      3.15\n",
       "Name: 8, dtype: object"
      ]
     },
     "execution_count": 99,
     "metadata": {},
     "output_type": "execute_result"
    }
   ],
   "source": [
    "index8 = city_data_df.loc[8]\n",
    "index8"
   ]
  },
  {
   "cell_type": "code",
   "execution_count": 100,
   "id": "3c03bd66",
   "metadata": {},
   "outputs": [
    {
     "data": {
      "text/plain": [
       "0    True\n",
       "1    True\n",
       "2    True\n",
       "3    True\n",
       "4    True\n",
       "5    True\n",
       "6    True\n",
       "7    True\n",
       "8    True\n",
       "Name: Lat, dtype: bool"
      ]
     },
     "execution_count": 100,
     "metadata": {},
     "output_type": "execute_result"
    }
   ],
   "source": [
    "city_data_df[\"Lat\"] >= 0"
   ]
  },
  {
   "cell_type": "code",
   "execution_count": 101,
   "id": "7539f610",
   "metadata": {},
   "outputs": [
    {
     "data": {
      "text/html": [
       "<div>\n",
       "<style scoped>\n",
       "    .dataframe tbody tr th:only-of-type {\n",
       "        vertical-align: middle;\n",
       "    }\n",
       "\n",
       "    .dataframe tbody tr th {\n",
       "        vertical-align: top;\n",
       "    }\n",
       "\n",
       "    .dataframe thead th {\n",
       "        text-align: right;\n",
       "    }\n",
       "</style>\n",
       "<table border=\"1\" class=\"dataframe\">\n",
       "  <thead>\n",
       "    <tr style=\"text-align: right;\">\n",
       "      <th></th>\n",
       "      <th>City</th>\n",
       "      <th>Country</th>\n",
       "      <th>Lat</th>\n",
       "      <th>Lng</th>\n",
       "      <th>Max Temp</th>\n",
       "      <th>Humidity</th>\n",
       "      <th>Cloudiness</th>\n",
       "      <th>Wind Speed</th>\n",
       "    </tr>\n",
       "  </thead>\n",
       "  <tbody>\n",
       "    <tr>\n",
       "      <th>0</th>\n",
       "      <td>Mumford</td>\n",
       "      <td>GH</td>\n",
       "      <td>5.2618</td>\n",
       "      <td>-0.7590</td>\n",
       "      <td>297.98</td>\n",
       "      <td>73</td>\n",
       "      <td>92</td>\n",
       "      <td>5.55</td>\n",
       "    </tr>\n",
       "    <tr>\n",
       "      <th>1</th>\n",
       "      <td>Anloga</td>\n",
       "      <td>GH</td>\n",
       "      <td>5.7947</td>\n",
       "      <td>0.8973</td>\n",
       "      <td>298.57</td>\n",
       "      <td>71</td>\n",
       "      <td>100</td>\n",
       "      <td>6.66</td>\n",
       "    </tr>\n",
       "    <tr>\n",
       "      <th>2</th>\n",
       "      <td>Cotonou</td>\n",
       "      <td>BJ</td>\n",
       "      <td>6.3654</td>\n",
       "      <td>2.4183</td>\n",
       "      <td>299.32</td>\n",
       "      <td>69</td>\n",
       "      <td>99</td>\n",
       "      <td>6.16</td>\n",
       "    </tr>\n",
       "    <tr>\n",
       "      <th>3</th>\n",
       "      <td>Warri</td>\n",
       "      <td>NG</td>\n",
       "      <td>5.5167</td>\n",
       "      <td>5.7500</td>\n",
       "      <td>302.28</td>\n",
       "      <td>53</td>\n",
       "      <td>99</td>\n",
       "      <td>3.09</td>\n",
       "    </tr>\n",
       "    <tr>\n",
       "      <th>4</th>\n",
       "      <td>Agbor</td>\n",
       "      <td>NG</td>\n",
       "      <td>6.2518</td>\n",
       "      <td>6.1934</td>\n",
       "      <td>300.04</td>\n",
       "      <td>65</td>\n",
       "      <td>85</td>\n",
       "      <td>2.81</td>\n",
       "    </tr>\n",
       "  </tbody>\n",
       "</table>\n",
       "</div>"
      ],
      "text/plain": [
       "      City Country     Lat     Lng  Max Temp  Humidity  Cloudiness  Wind Speed\n",
       "0  Mumford      GH  5.2618 -0.7590    297.98        73          92        5.55\n",
       "1   Anloga      GH  5.7947  0.8973    298.57        71         100        6.66\n",
       "2  Cotonou      BJ  6.3654  2.4183    299.32        69          99        6.16\n",
       "3    Warri      NG  5.5167  5.7500    302.28        53          99        3.09\n",
       "4    Agbor      NG  6.2518  6.1934    300.04        65          85        2.81"
      ]
     },
     "execution_count": 101,
     "metadata": {},
     "output_type": "execute_result"
    }
   ],
   "source": [
    "city_data_df.loc[(city_data_df[\"Lat\"] >= 0)].head()"
   ]
  },
  {
   "cell_type": "code",
   "execution_count": 102,
   "id": "a3d9720c",
   "metadata": {},
   "outputs": [],
   "source": [
    "# Create Northern and Southern Hemisphere DataFrames.\n",
    "northern_hemi_df = city_data_df.loc[(city_data_df[\"Lat\"] >= 0)]\n",
    "southern_hemi_df = city_data_df.loc[(city_data_df[\"Lat\"] < 0)]"
   ]
  },
  {
   "cell_type": "code",
   "execution_count": 103,
   "id": "66c25d29",
   "metadata": {},
   "outputs": [
    {
     "data": {
      "image/png": "[encoded data removed]",
      "text/plain": [
       "<Figure size 432x288 with 1 Axes>"
      ]
     },
     "metadata": {
      "needs_background": "light"
     },
     "output_type": "display_data"
    }
   ],
   "source": [
    "# Linear regression on the Northern Hemisphere\n",
    "x_values = northern_hemi_df[\"Lat\"]\n",
    "y_values = northern_hemi_df[\"Max Temp\"]\n",
    "# Call the function.\n",
    "# CHANGE TEXT COORDINATES\n",
    "plot_linear_regression(x_values, y_values,\n",
    "                       'Linear Regression on the Northern Hemisphere \\n for Maximum Temperature', 'Max Temp',(6.5,298.2))"
   ]
  },
  {
   "cell_type": "code",
   "execution_count": 104,
   "id": "b18acf04",
   "metadata": {},
   "outputs": [
    {
     "ename": "ValueError",
     "evalue": "Inputs must not be empty.",
     "output_type": "error",
     "traceback": [
      "\u001b[1;31m---------------------------------------------------------------------------\u001b[0m",
      "\u001b[1;31mValueError\u001b[0m                                Traceback (most recent call last)",
      "\u001b[1;32m~\\AppData\\Local\\Temp/ipykernel_59668/3157963369.py\u001b[0m in \u001b[0;36m<module>\u001b[1;34m\u001b[0m\n\u001b[0;32m      3\u001b[0m \u001b[0my_values\u001b[0m \u001b[1;33m=\u001b[0m \u001b[0msouthern_hemi_df\u001b[0m\u001b[1;33m[\u001b[0m\u001b[1;34m\"Max Temp\"\u001b[0m\u001b[1;33m]\u001b[0m\u001b[1;33m\u001b[0m\u001b[1;33m\u001b[0m\u001b[0m\n\u001b[0;32m      4\u001b[0m \u001b[1;31m# Call the function.\u001b[0m\u001b[1;33m\u001b[0m\u001b[1;33m\u001b[0m\u001b[0m\n\u001b[1;32m----> 5\u001b[1;33m plot_linear_regression(x_values, y_values,\n\u001b[0m\u001b[0;32m      6\u001b[0m                        \u001b[0;31m'\u001b[0m\u001b[0mLinear\u001b[0m \u001b[0mRegression\u001b[0m \u001b[0mon\u001b[0m \u001b[0mthe\u001b[0m \u001b[0mSouthern\u001b[0m \u001b[0mHemisphere\u001b[0m\u001b[0;31m \u001b[0m\u001b[0;31m\\\u001b[0m\u001b[1;33m\u001b[0m\u001b[1;33m\u001b[0m\u001b[0m\n\u001b[0;32m      7\u001b[0m                         for Maximum Temperature', 'Max Temp',(-50,90))\n",
      "\u001b[1;32m~\\AppData\\Local\\Temp/ipykernel_59668/2956860503.py\u001b[0m in \u001b[0;36mplot_linear_regression\u001b[1;34m(x_values, y_values, title, y_label, text_coordinates)\u001b[0m\n\u001b[0;32m      7\u001b[0m \u001b[1;33m\u001b[0m\u001b[0m\n\u001b[0;32m      8\u001b[0m     \u001b[1;31m# Run regression on hemisphere weather data.\u001b[0m\u001b[1;33m\u001b[0m\u001b[1;33m\u001b[0m\u001b[0m\n\u001b[1;32m----> 9\u001b[1;33m     \u001b[1;33m(\u001b[0m\u001b[0mslope\u001b[0m\u001b[1;33m,\u001b[0m \u001b[0mintercept\u001b[0m\u001b[1;33m,\u001b[0m \u001b[0mr_value\u001b[0m\u001b[1;33m,\u001b[0m \u001b[0mp_value\u001b[0m\u001b[1;33m,\u001b[0m \u001b[0mstd_err\u001b[0m\u001b[1;33m)\u001b[0m \u001b[1;33m=\u001b[0m \u001b[0mlinregress\u001b[0m\u001b[1;33m(\u001b[0m\u001b[0mx_values\u001b[0m\u001b[1;33m,\u001b[0m \u001b[0my_values\u001b[0m\u001b[1;33m)\u001b[0m\u001b[1;33m\u001b[0m\u001b[1;33m\u001b[0m\u001b[0m\n\u001b[0m\u001b[0;32m     10\u001b[0m \u001b[1;33m\u001b[0m\u001b[0m\n\u001b[0;32m     11\u001b[0m     \u001b[1;31m# Calculate the regression line \"y values\" from the slope and intercept.\u001b[0m\u001b[1;33m\u001b[0m\u001b[1;33m\u001b[0m\u001b[0m\n",
      "\u001b[1;32m~\\anaconda3\\lib\\site-packages\\scipy\\stats\\_stats_mstats_common.py\u001b[0m in \u001b[0;36mlinregress\u001b[1;34m(x, y, alternative)\u001b[0m\n\u001b[0;32m    144\u001b[0m \u001b[1;33m\u001b[0m\u001b[0m\n\u001b[0;32m    145\u001b[0m     \u001b[1;32mif\u001b[0m \u001b[0mx\u001b[0m\u001b[1;33m.\u001b[0m\u001b[0msize\u001b[0m \u001b[1;33m==\u001b[0m \u001b[1;36m0\u001b[0m \u001b[1;32mor\u001b[0m \u001b[0my\u001b[0m\u001b[1;33m.\u001b[0m\u001b[0msize\u001b[0m \u001b[1;33m==\u001b[0m \u001b[1;36m0\u001b[0m\u001b[1;33m:\u001b[0m\u001b[1;33m\u001b[0m\u001b[1;33m\u001b[0m\u001b[0m\n\u001b[1;32m--> 146\u001b[1;33m         \u001b[1;32mraise\u001b[0m \u001b[0mValueError\u001b[0m\u001b[1;33m(\u001b[0m\u001b[1;34m\"Inputs must not be empty.\"\u001b[0m\u001b[1;33m)\u001b[0m\u001b[1;33m\u001b[0m\u001b[1;33m\u001b[0m\u001b[0m\n\u001b[0m\u001b[0;32m    147\u001b[0m \u001b[1;33m\u001b[0m\u001b[0m\n\u001b[0;32m    148\u001b[0m     \u001b[0mn\u001b[0m \u001b[1;33m=\u001b[0m \u001b[0mlen\u001b[0m\u001b[1;33m(\u001b[0m\u001b[0mx\u001b[0m\u001b[1;33m)\u001b[0m\u001b[1;33m\u001b[0m\u001b[1;33m\u001b[0m\u001b[0m\n",
      "\u001b[1;31mValueError\u001b[0m: Inputs must not be empty."
     ]
    }
   ],
   "source": [
    "# Linear regression on the Southern Hemisphere\n",
    "x_values = southern_hemi_df[\"Lat\"]\n",
    "y_values = southern_hemi_df[\"Max Temp\"]\n",
    "# Call the function.\n",
    "plot_linear_regression(x_values, y_values,\n",
    "                       'Linear Regression on the Southern Hemisphere \\n for Maximum Temperature', 'Max Temp',(-50,90))"
   ]
  },
  {
   "cell_type": "code",
   "execution_count": 117,
   "id": "ba868567",
   "metadata": {},
   "outputs": [
    {
     "data": {
      "image/png": "[encoded data removed]",
      "text/plain": [
       "<Figure size 432x288 with 1 Axes>"
      ]
     },
     "metadata": {
      "needs_background": "light"
     },
     "output_type": "display_data"
    }
   ],
   "source": [
    "# Linear regression on the Northern Hemisphere\n",
    "x_values = northern_hemi_df[\"Lat\"]\n",
    "y_values = northern_hemi_df[\"Humidity\"]\n",
    "# Call the function.\n",
    "# CHANGE TEXT COORDINATES\n",
    "plot_linear_regression(x_values, y_values,\n",
    "                       'Linear Regression on the Northern Hemisphere \\n for % Humidity', '% Humidity',(6.2,55))"
   ]
  },
  {
   "cell_type": "code",
   "execution_count": 111,
   "id": "b16c40c7",
   "metadata": {
    "collapsed": true
   },
   "outputs": [
    {
     "ename": "ValueError",
     "evalue": "Inputs must not be empty.",
     "output_type": "error",
     "traceback": [
      "\u001b[1;31m---------------------------------------------------------------------------\u001b[0m",
      "\u001b[1;31mValueError\u001b[0m                                Traceback (most recent call last)",
      "\u001b[1;32m~\\AppData\\Local\\Temp/ipykernel_59668/3542004514.py\u001b[0m in \u001b[0;36m<module>\u001b[1;34m\u001b[0m\n\u001b[0;32m      3\u001b[0m \u001b[0my_values\u001b[0m \u001b[1;33m=\u001b[0m \u001b[0msouthern_hemi_df\u001b[0m\u001b[1;33m[\u001b[0m\u001b[1;34m\"Humidity\"\u001b[0m\u001b[1;33m]\u001b[0m\u001b[1;33m\u001b[0m\u001b[1;33m\u001b[0m\u001b[0m\n\u001b[0;32m      4\u001b[0m \u001b[1;31m# Call the function.\u001b[0m\u001b[1;33m\u001b[0m\u001b[1;33m\u001b[0m\u001b[0m\n\u001b[1;32m----> 5\u001b[1;33m plot_linear_regression(x_values, y_values,\n\u001b[0m\u001b[0;32m      6\u001b[0m                        'Linear Regression on the Southern Hemisphere \\n for % Humidity', '% Humidity',(-50,15))\n",
      "\u001b[1;32m~\\AppData\\Local\\Temp/ipykernel_59668/2956860503.py\u001b[0m in \u001b[0;36mplot_linear_regression\u001b[1;34m(x_values, y_values, title, y_label, text_coordinates)\u001b[0m\n\u001b[0;32m      7\u001b[0m \u001b[1;33m\u001b[0m\u001b[0m\n\u001b[0;32m      8\u001b[0m     \u001b[1;31m# Run regression on hemisphere weather data.\u001b[0m\u001b[1;33m\u001b[0m\u001b[1;33m\u001b[0m\u001b[0m\n\u001b[1;32m----> 9\u001b[1;33m     \u001b[1;33m(\u001b[0m\u001b[0mslope\u001b[0m\u001b[1;33m,\u001b[0m \u001b[0mintercept\u001b[0m\u001b[1;33m,\u001b[0m \u001b[0mr_value\u001b[0m\u001b[1;33m,\u001b[0m \u001b[0mp_value\u001b[0m\u001b[1;33m,\u001b[0m \u001b[0mstd_err\u001b[0m\u001b[1;33m)\u001b[0m \u001b[1;33m=\u001b[0m \u001b[0mlinregress\u001b[0m\u001b[1;33m(\u001b[0m\u001b[0mx_values\u001b[0m\u001b[1;33m,\u001b[0m \u001b[0my_values\u001b[0m\u001b[1;33m)\u001b[0m\u001b[1;33m\u001b[0m\u001b[1;33m\u001b[0m\u001b[0m\n\u001b[0m\u001b[0;32m     10\u001b[0m \u001b[1;33m\u001b[0m\u001b[0m\n\u001b[0;32m     11\u001b[0m     \u001b[1;31m# Calculate the regression line \"y values\" from the slope and intercept.\u001b[0m\u001b[1;33m\u001b[0m\u001b[1;33m\u001b[0m\u001b[0m\n",
      "\u001b[1;32m~\\anaconda3\\lib\\site-packages\\scipy\\stats\\_stats_mstats_common.py\u001b[0m in \u001b[0;36mlinregress\u001b[1;34m(x, y, alternative)\u001b[0m\n\u001b[0;32m    144\u001b[0m \u001b[1;33m\u001b[0m\u001b[0m\n\u001b[0;32m    145\u001b[0m     \u001b[1;32mif\u001b[0m \u001b[0mx\u001b[0m\u001b[1;33m.\u001b[0m\u001b[0msize\u001b[0m \u001b[1;33m==\u001b[0m \u001b[1;36m0\u001b[0m \u001b[1;32mor\u001b[0m \u001b[0my\u001b[0m\u001b[1;33m.\u001b[0m\u001b[0msize\u001b[0m \u001b[1;33m==\u001b[0m \u001b[1;36m0\u001b[0m\u001b[1;33m:\u001b[0m\u001b[1;33m\u001b[0m\u001b[1;33m\u001b[0m\u001b[0m\n\u001b[1;32m--> 146\u001b[1;33m         \u001b[1;32mraise\u001b[0m \u001b[0mValueError\u001b[0m\u001b[1;33m(\u001b[0m\u001b[1;34m\"Inputs must not be empty.\"\u001b[0m\u001b[1;33m)\u001b[0m\u001b[1;33m\u001b[0m\u001b[1;33m\u001b[0m\u001b[0m\n\u001b[0m\u001b[0;32m    147\u001b[0m \u001b[1;33m\u001b[0m\u001b[0m\n\u001b[0;32m    148\u001b[0m     \u001b[0mn\u001b[0m \u001b[1;33m=\u001b[0m \u001b[0mlen\u001b[0m\u001b[1;33m(\u001b[0m\u001b[0mx\u001b[0m\u001b[1;33m)\u001b[0m\u001b[1;33m\u001b[0m\u001b[1;33m\u001b[0m\u001b[0m\n",
      "\u001b[1;31mValueError\u001b[0m: Inputs must not be empty."
     ]
    }
   ],
   "source": [
    "# Linear regression on the Southern Hemisphere\n",
    "x_values = southern_hemi_df[\"Lat\"]\n",
    "y_values = southern_hemi_df[\"Humidity\"]\n",
    "# Call the function.\n",
    "plot_linear_regression(x_values, y_values,\n",
    "                       'Linear Regression on the Southern Hemisphere \\n for % Humidity', '% Humidity',(-50,15))"
   ]
  },
  {
   "cell_type": "code",
   "execution_count": 120,
   "id": "050a9f7f",
   "metadata": {},
   "outputs": [
    {
     "data": {
      "image/png": "[encoded data removed]",
      "text/plain": [
       "<Figure size 432x288 with 1 Axes>"
      ]
     },
     "metadata": {
      "needs_background": "light"
     },
     "output_type": "display_data"
    }
   ],
   "source": [
    "# Linear regression on the Northern Hemisphere\n",
    "x_values = northern_hemi_df[\"Lat\"]\n",
    "y_values = northern_hemi_df[\"Cloudiness\"]\n",
    "# Call the function.\n",
    "# CHANGE TEXT COORDINATES\n",
    "plot_linear_regression(x_values, y_values,\n",
    "                       'Linear Regression on the Northern Hemisphere \\n for % Cloudiness', '% Cloudiness',(5.5,75))"
   ]
  },
  {
   "cell_type": "code",
   "execution_count": null,
   "id": "70014123",
   "metadata": {},
   "outputs": [],
   "source": [
    "# Linear regression on the Southern Hemisphere\n",
    "x_values = southern_hemi_df[\"Lat\"]\n",
    "y_values = southern_hemi_df[\"Cloudiness\"]\n",
    "# Call the function.\n",
    "plot_linear_regression(x_values, y_values,\n",
    "                       'Linear Regression on the Southern Hemisphere \\\n",
    "                        for % Cloudiness', '% Cloudiness',(-50,60))"
   ]
  },
  {
   "cell_type": "code",
   "execution_count": 124,
   "id": "6bd5c04f",
   "metadata": {},
   "outputs": [
    {
     "data": {
      "image/png": "[encoded data removed]",
      "text/plain": [
       "<Figure size 432x288 with 1 Axes>"
      ]
     },
     "metadata": {
      "needs_background": "light"
     },
     "output_type": "display_data"
    }
   ],
   "source": [
    "# Linear regression on the Northern Hemisphere\n",
    "x_values = northern_hemi_df[\"Lat\"]\n",
    "y_values = northern_hemi_df[\"Wind Speed\"]\n",
    "# Call the function.\n",
    "# CHANGE TEXT COORDINATES\n",
    "plot_linear_regression(x_values, y_values,\n",
    "                       'Linear Regression on the Northern Hemisphere \\n for Wind Speed', 'Wind Speed',(8,6))"
   ]
  },
  {
   "cell_type": "code",
   "execution_count": null,
   "id": "fcb127e2",
   "metadata": {},
   "outputs": [],
   "source": [
    "# Linear regression on the Southern Hemisphere\n",
    "x_values = southern_hemi_df[\"Lat\"]\n",
    "y_values = southern_hemi_df[\"Wind Speed\"]\n",
    "# Call the function.\n",
    "plot_linear_regression(x_values, y_values,\n",
    "                       'Linear Regression on the Southern Hemisphere \\n for Wind Speed', 'Wind Speed',(-50,35))"
   ]
  }
 ],
 "metadata": {
  "kernelspec": {
   "display_name": "PythonData",
   "language": "python",
   "name": "pythondata"
  },
  "language_info": {
   "codemirror_mode": {
    "name": "ipython",
    "version": 3
   },
   "file_extension": ".py",
   "mimetype": "text/x-python",
   "name": "python",
   "nbconvert_exporter": "python",
   "pygments_lexer": "ipython3",
   "version": "3.9.7"
  }
 },
 "nbformat": 4,
 "nbformat_minor": 5
}
